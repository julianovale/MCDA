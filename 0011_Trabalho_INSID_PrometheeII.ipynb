{
  "nbformat": 4,
  "nbformat_minor": 0,
  "metadata": {
    "colab": {
      "name": "0001_MCDA_Promethee2.ipynb",
      "provenance": [],
      "collapsed_sections": [],
      "authorship_tag": "ABX9TyN7r+UlN0Njxm7cak56diiu",
      "include_colab_link": true
    },
    "kernelspec": {
      "name": "python3",
      "display_name": "Python 3"
    }
  },
  "cells": [
    {
      "cell_type": "markdown",
      "metadata": {
        "id": "view-in-github",
        "colab_type": "text"
      },
      "source": [
        "<a href=\"https://colab.research.google.com/github/julianovale/MCDA/blob/main/0011_Trabalho_INSID_PrometheeII.ipynb\" target=\"_parent\"><img src=\"https://colab.research.google.com/assets/colab-badge.svg\" alt=\"Open In Colab\"/></a>"
      ]
    },
    {
      "cell_type": "code",
      "metadata": {
        "id": "KxJV4fKama5B"
      },
      "source": [
        "# Filename: PROMETHEE_Preference_Functions.py\n",
        "# Description: This module calculates the\n",
        "# unicriterion preference degrees of the actions\n",
        "# for a specific criterion\n",
        "# Authors: Papathanasiou, J. & Ploskas, N.\n",
        "\n",
        "from numpy import *\n",
        "\n",
        "# Calculate the unicriterion preference degrees\n",
        "def uni_cal(x, p, c, f):\n",
        "    \"\"\" x is the action performances array, p is the\n",
        "    array with the preference parameters of all \n",
        "\tcriteria, c is the criteria min (0) or max (1) \n",
        "\toptimization array, and f is the preference \n",
        "\tfunction array for a specific criterion ('u' \n",
        "\tfor usual, 'us' for u-shape, 'vs' for v-shape, \n",
        "\t'le' for level, 'li' for linear, and 'g' for \n",
        "\tGaussian)\n",
        "    \"\"\"\n",
        "    uni = zeros((x.shape[0], x.shape[0]))\n",
        "    for i in range(size(uni, 0)):\n",
        "        for j in range(size(uni, 1)):\n",
        "            if i == j:\n",
        "                uni[i, j] = 0\n",
        "            elif f == 'u':  # Usual preference function\n",
        "                if x[j] - x[i] > 0:\n",
        "                    uni[i, j] = 1\n",
        "                else:\n",
        "                    uni[i, j] = 0\n",
        "            elif f == 'us': # U-shape preference function\n",
        "                if x[j] - x[i] > x[0]:\n",
        "                    uni[i, j] = 1\n",
        "                elif x[j] - x[i] <= p[0]:\n",
        "                    uni[i, j] = 0\n",
        "            elif f == 'vs': # V-shape preference function\n",
        "                if x[j] - x[i] > p[1]:\n",
        "                    uni[i, j] = 1\n",
        "                elif x[j] - x[i] <= 0:\n",
        "                    uni[i, j] = 0\n",
        "                else:\n",
        "                    uni[i, j] = (x[j] - x[i]) / p[1]\n",
        "            elif f == 'le': # Level preference function\n",
        "                if x[j] - x[i] > p[1]:\n",
        "                    uni[i, j] = 1\n",
        "                elif x[j] - x[i] <= p[0]:\n",
        "                    uni[i, j] = 0\n",
        "                else:\n",
        "                    uni[i, j] = 0.5\n",
        "            elif f == 'li': # Linear preference function\n",
        "                if x[j] - x[i] > p[1]:\n",
        "                    uni[i, j] = 1\n",
        "                elif x[j] - x[i] <= p[0]:\n",
        "                    uni[i, j] = 0\n",
        "                else:\n",
        "                    uni[i, j] = ((x[j] - x[i]) -\n",
        "                        p[0]) / (p[1] - p[0])\n",
        "            elif f == 'g':  # Gaussian preference function\n",
        "                if x[j] - x[i] > 0:\n",
        "                    uni[i, j] = 1 - math.exp(-(math.pow(x[j]\n",
        "                        - x[i], 2) / (2 * p[1] ** 2)))\n",
        "                else:\n",
        "                    uni[i, j] = 0\n",
        "    if c == 0:\n",
        "        uni = uni\n",
        "    elif c == 1:\n",
        "        uni = uni.T\n",
        "    # positive, negative and net flows\n",
        "    pos_flows = sum(uni, 1) / (uni.shape[0] - 1)\n",
        "    neg_flows = sum(uni, 0) / (uni.shape[0] - 1)\n",
        "    net_flows = pos_flows - neg_flows\n",
        "    return net_flows"
      ],
      "execution_count": 1,
      "outputs": []
    },
    {
      "cell_type": "code",
      "metadata": {
        "id": "FuSDJFdEmzLP"
      },
      "source": [
        "# Filename: PROMETHEE_Final_Rank_Figure.py\n",
        "# Description: Optional module to plot the\n",
        "# results of PROMETHEE method\n",
        "# Authors: Papathanasiou, J. & Ploskas, N.\n",
        "\n",
        "import matplotlib.pyplot as plt\n",
        "from graphviz import Digraph\n",
        "from numpy import *\n",
        "\n",
        "# Plot final rank figure\n",
        "def graph(flows, b):\n",
        "    \"\"\" flows is the matrix with the net flows, and b\n",
        "    is a string describing the net flow\n",
        "    \"\"\"\n",
        "    s = Digraph('Actions', node_attr = {'shape':\n",
        "        'plaintext'})\n",
        "    s.body.extend(['rankdir = LR'])\n",
        "    x = sort(flows)\n",
        "    y = argsort(flows)\n",
        "    l = []\n",
        "    for i in y:\n",
        "        s.node('action' + str(i), '''<\n",
        "        <TABLE BORDER=\"0\" CELLBORDER=\"1\"\n",
        "            CELLSPACING=\"0\" CELLPADDING=\"4\">\n",
        "          <TR>\n",
        "            <TD COLSPAN=\"2\" bgcolor=\"grey\" >Action\n",
        "                ''' + str(y[i] + 1) + '''</TD>\n",
        "          </TR>\n",
        "          <TR>\n",
        "            <TD>'''+ b +'''</TD>\n",
        "            <TD>''' + str(x[i]) + '''</TD>\n",
        "          </TR>\n",
        "        </TABLE>>''')\n",
        "    k = []\n",
        "    for q in range(len(flows) - 1):\n",
        "        k.append(['action' + str(q + 1), 'action'\n",
        "            + str(q)])\n",
        "    print(k)\n",
        "    s.edges(k)\n",
        "    s.view()\n",
        "\n",
        "# Plot final rank\n",
        "def plot(a, b):\n",
        "    \"\"\" a is the matrix with the net flows, and b\n",
        "    is a string describing the method\n",
        "    \"\"\"\n",
        "    flows = a\n",
        "    yaxes_list = [0.2] * size(flows, 0)\n",
        "    plt.plot(yaxes_list, flows, 'ro')\n",
        "    frame1 = plt.gca()\n",
        "    frame1.axes.get_xaxis().set_visible(False)\n",
        "    plt.axis([0, 0.7, min(flows) - 0.05,\n",
        "        max(flows) + 0.05])\n",
        "    plt.title(b + \" results\")\n",
        "    plt.ylabel(\"Flows\")\n",
        "    plt.legend()\n",
        "    plt.grid(True)\n",
        "    z1 = []\n",
        "    for i in range(size(flows, 0)):\n",
        "        z1.append('   (Action ' + str(i + 1) + ')')\n",
        "    z = [str(a) + b for a, b in zip(flows, z1)]\n",
        "    for X, Y, Z in zip(yaxes_list, flows, z):\n",
        "        plt.annotate('{}'.format(Z), xy = (X, Y),\n",
        "            xytext=(10, -4), ha = 'left',\n",
        "            textcoords = 'offset points')\n",
        "    plt.show()"
      ],
      "execution_count": 2,
      "outputs": []
    },
    {
      "cell_type": "code",
      "metadata": {
        "id": "TQN3OUGKnGPL"
      },
      "source": [
        "# Filename: PROMETHEE_II.py\n",
        "# Description: PROMETHEE II method\n",
        "# Authors: Papathanasiou, J. & Ploskas, N.\n",
        "\n",
        "# PROMETHEE method: it calls the other functions\n",
        "def promethee(x, p, c, d, w):\n",
        "    \"\"\" x is the action performances array, b is the\n",
        "    array with the preference parameters of all \n",
        "\tcriteria, c is the criteria min (0) or max (1) \n",
        "\toptimization array, d is the preference \n",
        "\tfunction array ('u' for usual, 'us' for \n",
        "\tu-shape, 'vs' for v-shape, 'le' for level, \n",
        "\t'li' for linear, and 'g' for Gaussian), and w\n",
        "    is the weights array\n",
        "    \"\"\"\n",
        "    weighted_uni_net_flows = []\n",
        "    total_net_flows = []\n",
        "    for i in range(x.shape[1]):\n",
        "        weighted_uni_net_flows.append(w[i] *\n",
        "            uni_cal(x[:, i:i + 1], p[:,\n",
        "            i:i + 1], c[i], d[i]))\n",
        "\t\n",
        "    # print the weighted unicriterion preference\n",
        "    # net flows\n",
        "    for i in range(size(weighted_uni_net_flows, 1)):\n",
        "        k = 0\n",
        "        for j in range(size(weighted_uni_net_flows, 0)):\n",
        "            k = k + round(weighted_uni_net_flows[j][i], 5)\n",
        "        total_net_flows.append(k)\n",
        "    return around(total_net_flows, decimals = 4)\n",
        "\n",
        "# main function\n",
        "def main(a, b):\n",
        "    \"\"\" a and b are flags; if they are set to 'y' they do\n",
        "    print the results, anything else does not print\n",
        "    the results\n",
        "\t\"\"\"\n",
        "\n",
        "    # action performances array\n",
        "    x = array([[8, 7, 2, 1], [5, 3, 7, 5], [7, 5, 6, 4],\n",
        "        [9, 9, 7, 3], [11, 10, 3, 7], [6, 9, 5, 4]])\n",
        "\n",
        "    # preference parameters of all criteria array\n",
        "    p = array([[1, 1, 1, 1], [2, 2, 2, 2]])\n",
        "\n",
        "    # criteria min (0) or max (1) optimization array\n",
        "    c = ([1, 1, 1, 1])\n",
        "\n",
        "    # preference function array\n",
        "    d = (['li', 'li', 'li', 'li'])\n",
        "\n",
        "    # weights of criteria\n",
        "    w = array([0.4, 0.3, 0.1, 0.2])\n",
        "\n",
        "    # final results\n",
        "    final_net_flows = promethee(x, p, c, d, w)\n",
        "    print(\"Global preference flows = \", final_net_flows)\n",
        "    if a == 'y':\n",
        "        graph(final_net_flows, \"Phi\")\n",
        "    if b == 'y':\n",
        "        plot(final_net_flows, \"PROMETHEE II\")\n",
        "    return final_net_flows\n",
        "\n",
        "# if __name__ == '__main__':\n",
        "#    main('n','y')"
      ],
      "execution_count": 3,
      "outputs": []
    },
    {
      "cell_type": "code",
      "metadata": {
        "id": "K725dX4FGFht",
        "outputId": "7fa9b68c-99c7-4b26-b525-a23632836b2a",
        "colab": {
          "base_uri": "https://localhost:8080/",
          "height": 303
        }
      },
      "source": [
        "bubu = main('n', 'y')"
      ],
      "execution_count": 4,
      "outputs": [
        {
          "output_type": "stream",
          "text": [
            "No handles with labels found to put in legend.\n"
          ],
          "name": "stderr"
        },
        {
          "output_type": "stream",
          "text": [
            "Global preference flows =  [-0.26 -0.52 -0.22  0.36  0.7  -0.06]\n"
          ],
          "name": "stdout"
        },
        {
          "output_type": "display_data",
          "data": {
            "image/png": "[encoded data removed]",
            "text/plain": [
              "<Figure size 432x288 with 1 Axes>"
            ]
          },
          "metadata": {
            "tags": [],
            "needs_background": "light"
          }
        }
      ]
    },
    {
      "cell_type": "code",
      "metadata": {
        "id": "QiGpICrHGXow",
        "outputId": "73dae375-a0f9-4b6a-8f65-c65276530db4",
        "colab": {
          "base_uri": "https://localhost:8080/"
        }
      },
      "source": [
        "bubu"
      ],
      "execution_count": 5,
      "outputs": [
        {
          "output_type": "execute_result",
          "data": {
            "text/plain": [
              "array([-0.26, -0.52, -0.22,  0.36,  0.7 , -0.06])"
            ]
          },
          "metadata": {
            "tags": []
          },
          "execution_count": 5
        }
      ]
    }
  ]
}